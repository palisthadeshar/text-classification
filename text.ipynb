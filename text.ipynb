{
 "cells": [
  {
   "attachments": {},
   "cell_type": "markdown",
   "metadata": {},
   "source": [
    "https://www.kaggle.com/code/ishandutta/ag-news-classification-lstm/output"
   ]
  },
  {
   "cell_type": "code",
   "execution_count": 15,
   "metadata": {},
   "outputs": [
    {
     "name": "stdout",
     "output_type": "stream",
     "text": [
      "177\n"
     ]
    }
   ],
   "source": [
    "# from tensorflow.keras.preprocessing.sequence import pad_sequences\n",
    "# from tensorflow.keras.preprocessing.text import Tokenizer\n",
    "# import numpy as np # linear algebra\n",
    "# import pandas as pd # data processing, CSV file I/O (e.g. pd.read_csv)\n",
    "# TRAIN_FILE_PATH = './data/train.csv'\n",
    "# TEST_FILE_PATH = './data//test.csv'\n",
    "\n",
    "# #Load Data\n",
    "# data = pd.read_csv(TRAIN_FILE_PATH)\n",
    "# testdata = pd.read_csv(TEST_FILE_PATH)\n",
    "\n",
    "# #Set Column Names \n",
    "# data.columns = ['ClassIndex', 'Title', 'Description']\n",
    "# testdata.columns = ['ClassIndex', 'Title', 'Description']\n",
    "\n",
    "# #Combine Title and Description\n",
    "# X_train = data['Title'] + \" \" + data['Description'] # Combine title and description (better accuracy than using them as separate features)\n",
    "# y_train = data['ClassIndex'].apply(lambda x: x-1).values # Class labels need to begin from 0\n",
    "\n",
    "# x_test = testdata['Title'] + \" \" + testdata['Description'] # Combine title and description (better accuracy than using them as separate features)\n",
    "# y_test = testdata['ClassIndex'].apply(lambda x: x-1).values # Class labels need to begin from 0\n",
    "# vocab_size = 10000 \n",
    "# tok = Tokenizer(num_words=vocab_size)\n",
    "# maxlen = X_train.map(lambda x: len(x.split())).max()\n",
    "# print(maxlen)"
   ]
  },
  {
   "cell_type": "code",
   "execution_count": 19,
   "metadata": {},
   "outputs": [],
   "source": [
    "import tensorflow as tf\n",
    "import numpy as np\n",
    "from tensorflow.keras.preprocessing.sequence import pad_sequences\n",
    "from tensorflow.keras.preprocessing.text import Tokenizer\n",
    "model = tf.keras.models.load_model('./models/model.hdf5')\n",
    "# model.load_weights('./models/weights.h5')\n",
    "# model.set_weights(weight)"
   ]
  },
  {
   "cell_type": "code",
   "execution_count": 20,
   "metadata": {},
   "outputs": [],
   "source": [
    "from termcolor import colored\n",
    "def modelDemo(news_text):\n",
    " \n",
    "  token = Tokenizer()\n",
    "  #News Labels\n",
    "  labels = ['Business News', 'Sports News', 'World News', 'Science-Technology News']\n",
    "\n",
    "  test_seq = pad_sequences(token.texts_to_sequences(news_text), maxlen=177)\n",
    "  print(model.predict(test_seq))\n",
    "\n",
    "  test_preds = [labels[np.argmax(i)] for i in model.predict(test_seq)]\n",
    "\n",
    "  for news, label in zip(news_text, test_preds):\n",
    "      # print('{} - {}'.format(news, label))\n",
    "      print('{} - {}'.format(colored(news, 'yellow'), colored(label, 'blue')))"
   ]
  },
  {
   "cell_type": "code",
   "execution_count": null,
   "metadata": {},
   "outputs": [],
   "source": []
  },
  {
   "cell_type": "code",
   "execution_count": 21,
   "metadata": {},
   "outputs": [
    {
     "name": "stdout",
     "output_type": "stream",
     "text": [
      "1/1 [==============================] - 5s 5s/step\n",
      "[[0.35987437 0.13496095 0.32800648 0.17715818]]\n",
      "1/1 [==============================] - 0s 59ms/step\n",
      "\u001b[33mCoronavirus: Bank pumps £100bn into UK economy to aid recovery\u001b[0m - \u001b[34mBusiness News\u001b[0m\n"
     ]
    }
   ],
   "source": [
    "modelDemo(['Coronavirus: Bank pumps £100bn into UK economy to aid recovery'])"
   ]
  },
  {
   "cell_type": "code",
   "execution_count": 22,
   "metadata": {},
   "outputs": [
    {
     "name": "stdout",
     "output_type": "stream",
     "text": [
      "1/1 [==============================] - 0s 68ms/step\n",
      "[[0.35987437 0.13496095 0.32800648 0.17715818]]\n",
      "1/1 [==============================] - 0s 92ms/step\n",
      "\u001b[33mDavid Luiz’s future with Arsenal to be decided this week\u001b[0m - \u001b[34mBusiness News\u001b[0m\n"
     ]
    }
   ],
   "source": [
    "modelDemo(['David Luiz’s future with Arsenal to be decided this week'])"
   ]
  },
  {
   "cell_type": "code",
   "execution_count": 23,
   "metadata": {},
   "outputs": [
    {
     "name": "stdout",
     "output_type": "stream",
     "text": [
      "1/1 [==============================] - 0s 103ms/step\n",
      "[[0.35987437 0.13496095 0.32800648 0.17715818]]\n",
      "1/1 [==============================] - 0s 137ms/step\n",
      "\u001b[33mIndian Economic budget supports the underprivileged sections of society\u001b[0m - \u001b[34mBusiness News\u001b[0m\n"
     ]
    }
   ],
   "source": [
    "modelDemo(['Indian Economic budget supports the underprivileged sections of society'])"
   ]
  },
  {
   "cell_type": "code",
   "execution_count": 24,
   "metadata": {},
   "outputs": [
    {
     "name": "stdout",
     "output_type": "stream",
     "text": [
      "1/1 [==============================] - 0s 85ms/step\n",
      "[[0.35987437 0.13496095 0.32800648 0.17715818]]\n",
      "1/1 [==============================] - 0s 143ms/step\n",
      "\u001b[33m\u001b[0m - \u001b[34mBusiness News\u001b[0m\n"
     ]
    }
   ],
   "source": [
    "modelDemo([''])"
   ]
  },
  {
   "cell_type": "code",
   "execution_count": null,
   "metadata": {},
   "outputs": [],
   "source": []
  }
 ],
 "metadata": {
  "kernelspec": {
   "display_name": "env",
   "language": "python",
   "name": "python3"
  },
  "language_info": {
   "codemirror_mode": {
    "name": "ipython",
    "version": 3
   },
   "file_extension": ".py",
   "mimetype": "text/x-python",
   "name": "python",
   "nbconvert_exporter": "python",
   "pygments_lexer": "ipython3",
   "version": "3.11.3"
  },
  "orig_nbformat": 4
 },
 "nbformat": 4,
 "nbformat_minor": 2
}
